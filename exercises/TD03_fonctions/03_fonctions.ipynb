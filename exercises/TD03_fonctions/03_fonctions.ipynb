{
 "cells": [
  {
   "cell_type": "markdown",
   "metadata": {},
   "source": [
    "# Instructions Générales\n",
    "\n",
    "Ce TD est à faire en créant un fichier td3.py, que vous éditerez dans VSCode. \n",
    "Vous ne remplirez pas les cellules de ce notebook, mais vous les copierez au fur et à mesure \n",
    "dans votre fichier pour les compléter.\n",
    "\n",
    "Vous respecterez au mieux les règles d'écriture de code, en particulier chaque fonction devra avoir un **docstring** et des commentaires si nécessaire et les noms de variable seront illustratifs de leur usage. Vous utiliserez les outils de débogage (flake8, mypy, debugger, pythontutor ...) pour corriger vos bogues."
   ]
  },
  {
   "cell_type": "markdown",
   "metadata": {},
   "source": [
    "# Gestion du temps\n",
    "\n",
    "Nous allons créer un petit logiciel de gestion du temps et des dates.\n",
    "Pour cela nous aurons besoin de créer un certain nombre de fonctions utilitaires.\n",
    "\n",
    "Un temps a le format suivant: (jour: int, heure: int, minute: int, seconde: int).\n",
    "C'est un tuple de 4 éléments. Par exemple (4, 3, 13, 20) correspond à 4 jours, 3 heures, 13 minutes et 20 secondes.\n",
    "Si on a une variable temps = (4, 3, 13, 20), pour accéder au premier élément on fait temps\\[0\\] ce qui donne 4,\n",
    "le nombre de jours.\n",
    "\n",
    "Créer la fonction qui prend comme argument le temps et renvoie le nombre de seconde total correspondant à ce temps.\n",
    "Créer la fonction qui prend un nombre de secondes et renvoie le temps correspondant."
   ]
  },
  {
   "cell_type": "code",
   "execution_count": 44,
   "metadata": {},
   "outputs": [
    {
     "name": "stdout",
     "output_type": "stream",
     "text": [
      "346640\n",
      "(0, 0, 1, 40)\n"
     ]
    }
   ],
   "source": [
    "temps = [4, 3, 13, 20]\n",
    "\n",
    "l= [ ]\n",
    "\n",
    "def TempsEnSeconde (temps):\n",
    "    secondes = ((temps [0]*24*60*60) + (temps[1]*60+60) + (temps[2]*60) + temps[3])\n",
    "    return secondes\n",
    "\n",
    "print (TempsEnSeconde(temps))\n",
    "\n",
    "def SecondeEnTemps (secondes):\n",
    "    minutes = secondes // 60 \n",
    "    secondes %= 60\n",
    "    heures = minutes // 60 \n",
    "    minutes %= 60\n",
    "    jours = heures // 24 \n",
    "    heures %= 24 \n",
    "    return (jours, heures, minutes, secondes)\n",
    "\n",
    "print(SecondeEnTemps(100))\n",
    "\n",
    "    \n",
    "\n",
    "\n",
    "\n"
   ]
  },
  {
   "cell_type": "code",
   "execution_count": null,
   "metadata": {},
   "outputs": [],
   "source": [
    "#temps[0] : jours, temps[1]: heures, temps[2]: minutes, temps[3]: secondes\n",
    "\n",
    "def tempsEnSeconde(temps):\n",
    "    secondes = (temps[0] * 24 * 60 * 60) + (temps[1]* 60 * 60) + (temps[2]* 60) + (temps[3])\n",
    "    return secondes\n",
    "    \n",
    "\n",
    "temps = (3,23,1,34)\n",
    "print(type(temps))\n",
    "print(tempsEnSeconde(temps))   \n",
    "\n",
    "def secondeEnTemps(seconde):\n",
    "    min = seconde // 60 \n",
    "    seconde %= 60 \n",
    "    heures = min // 60 \n",
    "    min %= 60\n",
    "    jours = heures // 24 \n",
    "    heures %= 24\n",
    "    return (jours, heures, min, seconde)\n",
    "    \n",
    "temps = secondeEnTemps(100000)\n",
    "print(temps[0],\"jours\",temps[1],\"heures\",temps[2],\"minutes\",temps[3],\"secondes\")"
   ]
  },
  {
   "cell_type": "code",
   "execution_count": 2,
   "metadata": {},
   "outputs": [],
   "source": [
    "\n",
    "def secondeEnTemps(seconde):\n",
    "    \"\"\"Renvoie le temps (jour, heure, minute, seconde) qui correspond au nombre de seconde passé en argument\"\"\"\n",
    "    min = seconde // 60 \n",
    "    seconde %= 60 \n",
    "    heure = min // 60 \n",
    "    min %= 60 \n",
    "    jour = heure // 24\n",
    "    heure %= 24 \n",
    "    return (jour, heure, min, seconde)\n",
    "    print(secondeEnTemps)\n",
    "    pass"
   ]
  },
  {
   "cell_type": "code",
   "execution_count": 3,
   "metadata": {},
   "outputs": [
    {
     "name": "stdout",
     "output_type": "stream",
     "text": [
      "1 jours 3 heures 46 minutes 40 secondes\n"
     ]
    }
   ],
   "source": [
    "\n",
    "temps = secondeEnTemps(100000)\n",
    "print(temps[0],\"jours\",temps[1],\"heures\",temps[2],\"minutes\",temps[3],\"secondes\") "
   ]
  },
  {
   "cell_type": "markdown",
   "metadata": {},
   "source": [
    "Créer une fonction d'affichage d'un temps `afficheTemps`. Attention, les mots jour, heure et seconde doivent être au pluriel s'il y en a plusieurs. S'il y en a zéro, ils ne doivent pas apparaître.\n",
    "`print(message, end=\"\")` permet de ne pas sauter une ligne après un print. \n",
    "Vous pouvez écrire une fonction qui affiche un mot au pluriel ou non, appelée ensuite plusieurs fois par `afficheTemps` pour simplifier votre code.\n"
   ]
  },
  {
   "cell_type": "code",
   "execution_count": 49,
   "metadata": {},
   "outputs": [
    {
     "name": "stdout",
     "output_type": "stream",
     "text": [
      " 4 jours 3 heures 13 minutes 20 secondesNone\n"
     ]
    }
   ],
   "source": [
    "def afficheTemps (temps): \n",
    "    affichePluriel(temps[0], \"jour\")\n",
    "    affichePluriel(temps[1], \"heure\")\n",
    "    affichePluriel(temps[2], \"minute\")\n",
    "    affichePluriel(temps[3], \"seconde\")\n",
    "\n",
    "\n",
    "\n",
    "def affichePluriel(val, mot):\n",
    "    if val!= 0: \n",
    "        print(\"\", val, mot, end=\"\")\n",
    "    if val >1:\n",
    "        print( \"s\", end=\"\" )\n",
    "\n",
    "print(afficheTemps(temps))"
   ]
  },
  {
   "cell_type": "code",
   "execution_count": null,
   "metadata": {},
   "outputs": [],
   "source": [
    "#fonction auxiliaire ici\n",
    "def affichePluriel (val, mot):\n",
    "    if val !=0 :\n",
    "        print(\"\", val, mot, end=\"\")\n",
    "    if val >1 : \n",
    "        print ( \"s\", end=\"\")\n",
    "\n",
    "def afficheTemps(temps):\n",
    "    affichePluriel(temps[0], \"jour\")\n",
    "    affichePluriel (temps[1], \"heure\")\n",
    "    affichePluriel (temps[2],\"minute\" ) \n",
    "    affichePluriel (temps[3], \"seconde\")\n",
    "    \n",
    "    \n",
    "\n",
    "    pass\n",
    "    \n",
    "afficheTemps((1,0,14,23)) "
   ]
  },
  {
   "cell_type": "code",
   "execution_count": 12,
   "metadata": {},
   "outputs": [],
   "source": [
    "def affichePluriel (val, mot):\n",
    "    if val !=0 :\n",
    "        print(\"\", val, mot, end=\"\")\n",
    "    if val >1 : \n",
    "        print ( \"s\", end=\"\")"
   ]
  },
  {
   "cell_type": "code",
   "execution_count": null,
   "metadata": {},
   "outputs": [],
   "source": [
    "def affichePluriel(val, mot):\n",
    "    if val!=0:\n",
    "        print(\"\", val, mot, end=\"\")\n",
    "    if val>1: \n",
    "        print(\"s\", end=\"\")"
   ]
  },
  {
   "cell_type": "code",
   "execution_count": 18,
   "metadata": {},
   "outputs": [
    {
     "name": "stdout",
     "output_type": "stream",
     "text": [
      " 1 jour 14 minutes 23 secondes\n",
      "\n"
     ]
    }
   ],
   "source": [
    "def afficheTemps(temps):\n",
    "    affichePluriel(temps[0],\"jour\")\n",
    "    affichePluriel(temps[1], \"heure\")\n",
    "    affichePluriel(temps[2], \"minute\")\n",
    "    affichePluriel (temps[3], \"seconde\")\n",
    "    print(\"\\n\")\n",
    "afficheTemps((1,0,14,23)) "
   ]
  },
  {
   "cell_type": "markdown",
   "metadata": {},
   "source": [
    "Ecrire une fonction qui demande à l'utilisateur de rentrer un nombre de jours, d'heures, de minutes et\n",
    "de secondes et qui renvoie un temps. Attention, si l'entrée utilisateur n'est pas correcte, par exemple 80 minutes,\n",
    "afficher un message d'erreur et s'arrêter.\n",
    "\n",
    "(Optionnel) Au lieu d'arêter le programme, demander de rentrer une nouvelle valeur, tant que \n",
    "ce n'est pas une valeur correcte."
   ]
  },
  {
   "cell_type": "code",
   "execution_count": 51,
   "metadata": {},
   "outputs": [
    {
     "name": "stdout",
     "output_type": "stream",
     "text": [
      "entree mal formee, recommencer\n",
      " 8 jours 7 heures 8 minutes 8 secondes"
     ]
    }
   ],
   "source": [
    "def demandeTemps():\n",
    "    jours = int(input(\"jours\"))\n",
    "    heures = int(input(\"heures\"))\n",
    "    minutes = int(input(\"minutes\")) \n",
    "    secondes = int(input(\"secondes\"))\n",
    "    if heures > 23 or minutes > 59 or secondes> 59:\n",
    "            print (\"entree mal formee, recommencer\")\n",
    "            jours = int(input(\"jours\"))\n",
    "            heures = int(input(\"heures\"))\n",
    "            minutes = int(input(\"minutes\")) \n",
    "            secondes = int(input(\"secondes\"))\n",
    "    return (jours, heures, minutes, secondes)\n",
    "\n",
    "afficheTemps(demandeTemps())"
   ]
  },
  {
   "cell_type": "code",
   "execution_count": null,
   "metadata": {},
   "outputs": [],
   "source": []
  },
  {
   "cell_type": "code",
   "execution_count": null,
   "metadata": {},
   "outputs": [],
   "source": [
    "def demandeTemps():\n",
    "    jours = int(input(\"jours\"))\n",
    "    heures = int(input(\"heures\"))\n",
    "    minutes = int(input(\"minutes\"))\n",
    "    secondes = int(input(\"secondes\"))\n",
    "    while heures > 23 or minutes > 59 or secondes > 59:\n",
    "        print(\"entrée mal formée, recommencer\")\n",
    "        jours = int(input(\"Nbjours\"))\n",
    "        heures = int(input(\"Nbbeures\"))\n",
    "        minutes = int(input(\"Nbminutes\"))\n",
    "        secondes = int(input(\"Nbsecondes\"))\n",
    "    return (jours, heures, minutes, secondes)\n",
    "\n",
    "afficheTemps(demandeTemps())"
   ]
  },
  {
   "cell_type": "code",
   "execution_count": 16,
   "metadata": {},
   "outputs": [
    {
     "name": "stdout",
     "output_type": "stream",
     "text": [
      " 12 jours 12 heures 12 minutes 12 secondes"
     ]
    }
   ],
   "source": [
    "def demandeTemps():\n",
    "    jour = int(input(\"jour\"))\n",
    "    heure = int(input(\"heures\"))\n",
    "    min= int(input(\"minutes\"))\n",
    "    sec = int(input(\"seconde\"))\n",
    "    while heure > 23 or min > 59 or sec > 59: \n",
    "        print(\"entrée mal formée, recommencer\")\n",
    "        jour= int(input(\"Nbjours\"))\n",
    "        heure= int(input(\"Nheures\"))\n",
    "        min= int(input(\"Nbmin\"))\n",
    "        sec= int(input(\"Nbsec\"))\n",
    "    return(jour, heure, min, sec)\n",
    "\n",
    "afficheTemps(demandeTemps())"
   ]
  },
  {
   "cell_type": "markdown",
   "metadata": {},
   "source": [
    "On veut être capable d'additionner deux temps. Donner une fonction qui fait ce calcul,\n",
    "en utilisant les fonctions précédentes."
   ]
  },
  {
   "cell_type": "code",
   "execution_count": 23,
   "metadata": {},
   "outputs": [
    {
     "name": "stdout",
     "output_type": "stream",
     "text": [
      " 8 jours 2 heures 1 minute 26 secondes\n",
      "\n"
     ]
    }
   ],
   "source": [
    "def sommeTemps(temps1,temps2):\n",
    "    return secondeEnTemps(tempsEnSeconde(temps1)+ tempsEnSeconde(temps2))\n",
    "\n",
    "afficheTemps(sommeTemps((2,3,4,25),(5,22,57,1)))"
   ]
  },
  {
   "cell_type": "code",
   "execution_count": 53,
   "metadata": {},
   "outputs": [
    {
     "name": "stdout",
     "output_type": "stream",
     "text": [
      " 3 jours 14 minutes 9 secondes"
     ]
    }
   ],
   "source": [
    "temps1= [1,2,3,4]\n",
    "temps2=[2,3,4,5]\n",
    "\n",
    "def sommeTemps (temps1, temps2): \n",
    "    return secondeEnTemps(TempsEnSeconde(temps1) + TempsEnSeconde(temps2))\n",
    "\n",
    "afficheTemps(sommeTemps(temps1,temps2))"
   ]
  },
  {
   "cell_type": "code",
   "execution_count": 21,
   "metadata": {},
   "outputs": [
    {
     "name": "stdout",
     "output_type": "stream",
     "text": [
      " 8 jours 2 heures 1 minute 26 secondes\n",
      "\n"
     ]
    }
   ],
   "source": [
    "def sommeTemps(temps1,temps2):\n",
    "    return secondeEnTemps(tempsEnSeconde(temps1)+tempsEnSeconde(temps2))\n",
    "\n",
    "afficheTemps(sommeTemps((2,3,4,25),(5,22,57,1)))"
   ]
  },
  {
   "cell_type": "markdown",
   "metadata": {},
   "source": [
    "On veut maintenant calculer un pourcentage d'un temps. Par exemple, 20% de\n",
    "2 jours et 36 minutes correspond à 9 heures, 43 minutes et 12 secondes.\n",
    "\n",
    "Implémenter la fonction `proportionTemps` puis appeler cette fonction en échangeant l'ordre des arguments mais en les nommant."
   ]
  },
  {
   "cell_type": "code",
   "execution_count": 25,
   "metadata": {},
   "outputs": [
    {
     "name": "stdout",
     "output_type": "stream",
     "text": [
      " 9 heures 43 minutes 12 secondes\n",
      "\n"
     ]
    }
   ],
   "source": [
    "\n",
    "def proportionTemps(temps,proportion):\n",
    "    return secondeEnTemps(int(tempsEnSeconde(temps)*proportion))\n",
    "\n",
    "afficheTemps(proportionTemps((2,0,36,0),0.2))\n",
    "#appeler la fonction en échangeant l'ordre des arguments"
   ]
  },
  {
   "cell_type": "markdown",
   "metadata": {},
   "source": [
    "On veut maintenant afficher un temps sous forme de date, en supposant \n",
    "que le temps 0 est le 1 janvier 1970 à 00:00:00.\n",
    "\n",
    "* Implémenter une fonction `tempsEnDate`qui donne la date sous la forme (année, jour, heure, minute, seconde).\n",
    "* Implémenter la fonction `afficheDate`qui affiche la date. \n",
    "* (Optionnel) Gérer également les mois."
   ]
  },
  {
   "cell_type": "code",
   "execution_count": 31,
   "metadata": {},
   "outputs": [
    {
     "name": "stdout",
     "output_type": "stream",
     "text": [
      " 11574 jours 1 heure 46 minutes 40 secondes\n",
      "\n",
      "annee 2001  11 jours 1 heure 46 minutes 40 secondes\n",
      "\n"
     ]
    },
    {
     "ename": "TypeError",
     "evalue": "cannot unpack non-iterable int object",
     "output_type": "error",
     "traceback": [
      "\u001b[0;31m---------------------------------------------------------------------------\u001b[0m",
      "\u001b[0;31mTypeError\u001b[0m                                 Traceback (most recent call last)",
      "Cell \u001b[0;32mIn [31], line 16\u001b[0m\n\u001b[1;32m     14\u001b[0m afficheTemps(temps)\n\u001b[1;32m     15\u001b[0m afficheDate(tempsEnDate(temps))\n\u001b[0;32m---> 16\u001b[0m afficheDate()\n",
      "Cell \u001b[0;32mIn [31], line 9\u001b[0m, in \u001b[0;36mafficheDate\u001b[0;34m(date)\u001b[0m\n\u001b[1;32m      8\u001b[0m \u001b[39mdef\u001b[39;00m \u001b[39mafficheDate\u001b[39m(date \u001b[39m=\u001b[39m \u001b[39m-\u001b[39m\u001b[39m1\u001b[39m):\n\u001b[0;32m----> 9\u001b[0m     annee, jours, heures, minutes, secondes \u001b[39m=\u001b[39m date \n\u001b[1;32m     10\u001b[0m     \u001b[39mprint\u001b[39m(\u001b[39m\"\u001b[39m\u001b[39mannee\u001b[39m\u001b[39m\"\u001b[39m, annee, end\u001b[39m=\u001b[39m \u001b[39m\"\u001b[39m\u001b[39m \u001b[39m\u001b[39m\"\u001b[39m)\n\u001b[1;32m     11\u001b[0m     afficheTemps((jours, heures, minutes,secondes))\n",
      "\u001b[0;31mTypeError\u001b[0m: cannot unpack non-iterable int object"
     ]
    }
   ],
   "source": [
    "def tempsEnDate(temps):\n",
    "    jours, heures, minutes, secondes = temps \n",
    "    annee = (jours // 365) + 1970 \n",
    "    jours %= (jours // 365)\n",
    "    return (annee,jours, heures, minutes, secondes )\n",
    "\n",
    "\n",
    "def afficheDate(date = -1):\n",
    "    annee, jours, heures, minutes, secondes = date \n",
    "    print(\"annee\", annee, end= \" \")\n",
    "    afficheTemps((jours, heures, minutes,secondes))\n",
    "    \n",
    "temps = secondeEnTemps(1000000000)\n",
    "afficheTemps(temps)\n",
    "afficheDate(tempsEnDate(temps))\n",
    "afficheDate()\n",
    "\n"
   ]
  },
  {
   "cell_type": "code",
   "execution_count": 54,
   "metadata": {},
   "outputs": [
    {
     "name": "stdout",
     "output_type": "stream",
     "text": [
      "1670514354.216444\n",
      "time.struct_time(tm_year=2022, tm_mon=12, tm_mday=8, tm_hour=15, tm_min=45, tm_sec=54, tm_wday=3, tm_yday=342, tm_isdst=0)\n",
      " 11574 jours 1 heure 46 minutes 40 secondesannee 2001  259 jours 1 heure 46 minutes 40 secondes"
     ]
    },
    {
     "ename": "TypeError",
     "evalue": "cannot unpack non-iterable int object",
     "output_type": "error",
     "traceback": [
      "\u001b[0;31m---------------------------------------------------------------------------\u001b[0m",
      "\u001b[0;31mTypeError\u001b[0m                                 Traceback (most recent call last)",
      "Cell \u001b[0;32mIn [54], line 20\u001b[0m\n\u001b[1;32m     18\u001b[0m afficheTemps(temps)\n\u001b[1;32m     19\u001b[0m afficheDate(tempsEnDate(temps))\n\u001b[0;32m---> 20\u001b[0m afficheDate()\n",
      "Cell \u001b[0;32mIn [54], line 8\u001b[0m, in \u001b[0;36mafficheDate\u001b[0;34m(date)\u001b[0m\n\u001b[1;32m      7\u001b[0m \u001b[39mdef\u001b[39;00m \u001b[39mafficheDate\u001b[39m(date \u001b[39m=\u001b[39m \u001b[39m-\u001b[39m\u001b[39m1\u001b[39m):\n\u001b[0;32m----> 8\u001b[0m     annee, jour, heure, \u001b[39mmin\u001b[39m, sec \u001b[39m=\u001b[39m date \n\u001b[1;32m      9\u001b[0m     \u001b[39mprint\u001b[39m(\u001b[39m\"\u001b[39m\u001b[39mannee\u001b[39m\u001b[39m\"\u001b[39m, annee, end\u001b[39m=\u001b[39m \u001b[39m\"\u001b[39m\u001b[39m \u001b[39m\u001b[39m\"\u001b[39m)\n\u001b[1;32m     10\u001b[0m     afficheTemps((jour, heure, \u001b[39mmin\u001b[39m,sec))\n",
      "\u001b[0;31mTypeError\u001b[0m: cannot unpack non-iterable int object"
     ]
    }
   ],
   "source": [
    "\n",
    "def tempsEnDate(temps):\n",
    "    jour, heure, min, sec = temps\n",
    "    annee = jour // 365 + 1970 \n",
    "    jour %= 365\n",
    "    return ( annee, jour, heure, min, sec)\n",
    "\n",
    "def afficheDate(date = -1):\n",
    "    annee, jour, heure, min, sec = date \n",
    "    print(\"annee\", annee, end= \" \")\n",
    "    afficheTemps((jour, heure, min,sec)) \n",
    "\n",
    "import time \n",
    "print(time.time()) #temps écoulé depuis le 1er janvier 1970\n",
    "print(time.gmtime(time.time())) #affiche le temps en année, jour, heure, min, sec\n",
    "  \n",
    "\n",
    "temps = secondeEnTemps(1000000000)\n",
    "afficheTemps(temps)\n",
    "afficheDate(tempsEnDate(temps))\n",
    "afficheDate()\n"
   ]
  },
  {
   "cell_type": "markdown",
   "metadata": {},
   "source": [
    "Il existe des fonctions dans la librairie `time` pour la gestion du temps. En particulier, il existe\n",
    "une fonction `time` qui donne le temps écoulé depuis 1970 en secondes. \n",
    "La trouver avec la [documentation python](https://docs.python.org/fr/3/library/time.html#module-time) et la tester en utilisant `afficheDate`. \n",
    "Tester de la même manière la fonction `time.gmtime` qui réalise une tâche similaire à `tempsEnDate`.\n",
    "Que constatez vous ?"
   ]
  },
  {
   "cell_type": "code",
   "execution_count": null,
   "metadata": {},
   "outputs": [],
   "source": [
    "#tester ici les fonctions de la librairie time"
   ]
  },
  {
   "cell_type": "markdown",
   "metadata": {},
   "source": [
    "Attention, tous les 4 ans les années sont bisextiles (un jour de plus) sauf les multiples de 100 qui ne sont pas des multiples de 400.\n",
    "Donner un code qui prend un nombre de jours et affiche toutes les années bisextiles depuis le 1er janvier 1970 à 00:00:00 jusqu'à la fin de ces jours."
   ]
  },
  {
   "cell_type": "code",
   "execution_count": null,
   "metadata": {},
   "outputs": [],
   "source": [
    "def bisextile(jour):\n",
    "    pass\n",
    "        \n",
    "bisextile(20000)"
   ]
  },
  {
   "cell_type": "markdown",
   "metadata": {},
   "source": [
    "Implémenter une fonction `nombreBisextile` qui calcule le nombre d'années bisextiles entre le 1er janvier 1970 et le nombre de jour donnés.\n",
    "Utilisez-la pour implémenter une fonction `tempsEnDateBisextile` qui fait la même chose que `tempsEnDate` mais en prenant en compte les années bisextiles."
   ]
  },
  {
   "cell_type": "code",
   "execution_count": null,
   "metadata": {},
   "outputs": [],
   "source": [
    "def nombreBisextile(jour):\n",
    "    pass\n",
    "\n",
    "def tempsEnDateBisextile(temps):\n",
    "    pass\n",
    "   \n",
    "temps = secondeEnTemps(1000000000)\n",
    "afficheTemps(temps)\n",
    "afficheDate(tempsEnDateBisextile(temps))"
   ]
  },
  {
   "cell_type": "markdown",
   "metadata": {},
   "source": [
    "Ajouter des valeurs par défaut dans le code de `afficheDate` afin de pouvoir ommettre\n",
    "l'argument de ces fonctions. Dans ce cas là, on affichera la date actuelle en utilisant la fonction `time`."
   ]
  },
  {
   "cell_type": "markdown",
   "metadata": {},
   "source": [
    "On va maintenant inspecter notre code pour améliorer sa qualité:\n",
    "\n",
    "* Regarder tous les warnings donnés par flake8 et essayer de les régler.\n",
    "* Utiliser le debugger (F5) pour étudier le fonctionnement de votre fonction nombreBisextile.\n",
    "* Mettre les annotations de type des arguments et du retour de la fonction pour nombreBisextile et une autre fonction de votre choix. Vérifier avec mypy que tout fonctionne bien."
   ]
  },
  {
   "cell_type": "markdown",
   "metadata": {},
   "source": [
    "Donner une fonction qui vérifie la charge horaire d'un employé, donnée sous forme d'une liste de temps travaillé chaque semaine dans un mois. Il ne faut pas dépasser 48h par semaine et 140h par mois (qu'on considère ici de 4 semaines).\n",
    "\n",
    "(Optionnel) S'adapter à une liste qui peut contenir plusieurs mois."
   ]
  },
  {
   "cell_type": "code",
   "execution_count": null,
   "metadata": {},
   "outputs": [],
   "source": [
    "def verifie(liste_temps):\n",
    "    pass\n",
    "\n",
    "\n",
    "liste_temps = [[1,2,39,34],[0,1,9,4],[0,29,39,51],[0,31,13,46]]\n",
    "verifie(liste_temps)"
   ]
  }
 ],
 "metadata": {
  "kernelspec": {
   "display_name": "Python 3.10.7 64-bit",
   "language": "python",
   "name": "python3"
  },
  "language_info": {
   "codemirror_mode": {
    "name": "ipython",
    "version": 3
   },
   "file_extension": ".py",
   "mimetype": "text/x-python",
   "name": "python",
   "nbconvert_exporter": "python",
   "pygments_lexer": "ipython3",
   "version": "3.10.7"
  },
  "vscode": {
   "interpreter": {
    "hash": "7e1998ff7f8aa20ada591c520b972326324e5ea05489af9e422744c7c09f6dad"
   }
  }
 },
 "nbformat": 4,
 "nbformat_minor": 4
}
