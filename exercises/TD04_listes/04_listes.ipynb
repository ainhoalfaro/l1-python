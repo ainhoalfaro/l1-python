{
 "cells": [
  {
   "cell_type": "markdown",
   "metadata": {},
   "source": [
    "# TD 4: Listes"
   ]
  },
  {
   "cell_type": "markdown",
   "metadata": {},
   "source": [
    "---\n",
    "\n",
    "## 1. Débuts avec les listes\n",
    "\n",
    "Dans cette partie, il faut écrire les réponses directement dans le notebook. En plus du cours, n'hésitez pas à consulter la documentation (tutoriel) Python sur les listes [ici (introduction aux listes)](https://docs.python.org/fr/3.6/tutorial/introduction.html#lists) et [ici (complément sur les listes)] (https://docs.python.org/fr/3/tutorial/datastructures.html#more-on-lists).\n",
    "\n",
    "1. Créer la liste `3, 5, 10`, l'affecter à une variable, puis l'afficher."
   ]
  },
  {
   "cell_type": "code",
   "execution_count": 3,
   "metadata": {},
   "outputs": [
    {
     "name": "stdout",
     "output_type": "stream",
     "text": [
      "[3, 5, 10]\n"
     ]
    }
   ],
   "source": [
    "l= [3,5,10]\n",
    "print(l)\n",
    "\n"
   ]
  },
  {
   "cell_type": "markdown",
   "metadata": {},
   "source": [
    "2. Ajouter ensuite 12 et 17 à la fin puis afficher à nouveau la liste."
   ]
  },
  {
   "cell_type": "code",
   "execution_count": 4,
   "metadata": {},
   "outputs": [
    {
     "name": "stdout",
     "output_type": "stream",
     "text": [
      "[3, 5, 10, 12, 17]\n"
     ]
    }
   ],
   "source": [
    "l.extend([12,17])\n",
    "print(l)\n",
    "\n",
    "\n"
   ]
  },
  {
   "cell_type": "code",
   "execution_count": 230,
   "metadata": {},
   "outputs": [
    {
     "ename": "TypeError",
     "evalue": "'builtin_function_or_method' object is not subscriptable",
     "output_type": "error",
     "traceback": [
      "\u001b[0;31m---------------------------------------------------------------------------\u001b[0m",
      "\u001b[0;31mTypeError\u001b[0m                                 Traceback (most recent call last)",
      "Cell \u001b[0;32mIn [230], line 21\u001b[0m\n\u001b[1;32m     18\u001b[0m                 l\u001b[39m.\u001b[39mappend(sommeNegatif)\n\u001b[1;32m     19\u001b[0m     \u001b[39mreturn\u001b[39;00m l3\u001b[39m.\u001b[39mextend[[l], [l2]]\n\u001b[0;32m---> 21\u001b[0m \u001b[39mprint\u001b[39m(bilan_mensuel(base))\n",
      "Cell \u001b[0;32mIn [230], line 19\u001b[0m, in \u001b[0;36mbilan_mensuel\u001b[0;34m(L)\u001b[0m\n\u001b[1;32m     17\u001b[0m             sommeNegatif \u001b[39m+\u001b[39m\u001b[39m=\u001b[39m j\n\u001b[1;32m     18\u001b[0m             l\u001b[39m.\u001b[39mappend(sommeNegatif)\n\u001b[0;32m---> 19\u001b[0m \u001b[39mreturn\u001b[39;00m l3\u001b[39m.\u001b[39;49mextend[[l], [l2]]\n",
      "\u001b[0;31mTypeError\u001b[0m: 'builtin_function_or_method' object is not subscriptable"
     ]
    }
   ],
   "source": [
    "\n",
    "base = [[200, -42, 312],[-51, -22, -3, 80,23]]\n",
    "\n",
    "liste = [1,2,3,4]\n",
    "\n",
    "def bilan_mensuel(L):\n",
    "    sommeNegatif = 0 \n",
    "    sommePositif = 0 \n",
    "    l = [0]\n",
    "    l2 = [0]\n",
    "    l3 = [0]\n",
    "    for i in L:\n",
    "        for j in  i : \n",
    "            if j > 0:\n",
    "                sommePositif += j \n",
    "                l.append(sommePositif)\n",
    "            else: \n",
    "                sommeNegatif += j\n",
    "                l.append(sommeNegatif)\n",
    "    return l3.extend[[l], [l2]]\n",
    "\n",
    "print(bilan_mensuel(base))\n"
   ]
  },
  {
   "cell_type": "markdown",
   "metadata": {},
   "source": [
    "3. Changer le 10 en -7."
   ]
  },
  {
   "cell_type": "code",
   "execution_count": 5,
   "metadata": {},
   "outputs": [
    {
     "name": "stdout",
     "output_type": "stream",
     "text": [
      "[3, 5, -7, 12, 17]\n"
     ]
    }
   ],
   "source": [
    "l[2]= -7\n",
    "print (l)\n",
    "\n",
    "\n"
   ]
  },
  {
   "cell_type": "markdown",
   "metadata": {},
   "source": [
    "4. Avec une boucle `for`, écrire le double de chaque élément de la liste. Cela doit afficher `[6, 10, -14, 24, 34]`. La liste doit être modifiée."
   ]
  },
  {
   "cell_type": "code",
   "execution_count": 175,
   "metadata": {},
   "outputs": [
    {
     "name": "stdout",
     "output_type": "stream",
     "text": [
      "[0, 4, 8, 12, 16, 20]\n"
     ]
    }
   ],
   "source": [
    "for i in range(len(l)):\n",
    "    l[i]*=2 \n",
    "\n",
    "print(l)\n",
    "    \n",
    "\n"
   ]
  },
  {
   "cell_type": "markdown",
   "metadata": {},
   "source": [
    "5. A l'aide d'une boucle `for`, ajouter  la valeur `i` à l'élément d'indice `i` de la liste. Cela doit afficher `[6, 11, -12, 27, 38]`. La liste doit être modifiée."
   ]
  },
  {
   "cell_type": "code",
   "execution_count": 7,
   "metadata": {},
   "outputs": [
    {
     "name": "stdout",
     "output_type": "stream",
     "text": [
      "[6, 11, -12, 27, 38]\n"
     ]
    }
   ],
   "source": [
    "for i in range(len(l)):\n",
    "    l[i]+=i \n",
    "\n",
    "print(l)"
   ]
  },
  {
   "cell_type": "markdown",
   "metadata": {},
   "source": [
    "6. Tirer 10 nombres à 2 chiffres au hasard et les mettre dans une nouvelle liste (vide au départ), puis afficher la somme des entiers de la liste et le plus grand de ces entiers."
   ]
  },
  {
   "cell_type": "code",
   "execution_count": 179,
   "metadata": {},
   "outputs": [
    {
     "name": "stdout",
     "output_type": "stream",
     "text": [
      "[42, 75, 45, 55, 93, 20, 40, 35, 14, 66, 55]\n",
      "540\n",
      "93\n"
     ]
    }
   ],
   "source": [
    "import random\n",
    "l2 = []\n",
    "for i in range(11):\n",
    "    l2.append(random.randint(10,99))\n",
    "\n",
    "print(l2)\n",
    "\n",
    "print(sum(l2))\n",
    "print(max(l2))\n"
   ]
  },
  {
   "cell_type": "markdown",
   "metadata": {},
   "source": [
    "7. A partir de la liste choisie au hasard, créer une liste qui contient les éléments pairs et une deuxième liste qui contient les éléments impairs."
   ]
  },
  {
   "cell_type": "code",
   "execution_count": 177,
   "metadata": {},
   "outputs": [
    {
     "name": "stdout",
     "output_type": "stream",
     "text": [
      "[37, 63, 43, 21, 29, 41]\n",
      "[30, 12, 78, 22, 26]\n"
     ]
    }
   ],
   "source": [
    "l_impair = [i for i in l2 if i%2 == 1]\n",
    "l_pair = [i for i in l2 if  i%2 == 0] \n",
    "\n",
    "print (l_impair)\n",
    "print(l_pair)\n"
   ]
  },
  {
   "cell_type": "markdown",
   "metadata": {},
   "source": [
    "8. Trier la liste choisie au hasard par ordre croissant en modifiant la liste."
   ]
  },
  {
   "cell_type": "code",
   "execution_count": 15,
   "metadata": {},
   "outputs": [
    {
     "name": "stdout",
     "output_type": "stream",
     "text": [
      "[16, 39, 59, 63, 63, 71, 79, 80, 83, 98]\n"
     ]
    }
   ],
   "source": [
    "l2.sort()\n",
    "print(l2)"
   ]
  },
  {
   "cell_type": "markdown",
   "metadata": {},
   "source": [
    "9. Supprimer le plus petit et le plus grand élément de la liste triée."
   ]
  },
  {
   "cell_type": "code",
   "execution_count": 16,
   "metadata": {},
   "outputs": [
    {
     "name": "stdout",
     "output_type": "stream",
     "text": [
      "[39, 59, 63, 63, 71, 79, 80, 83]\n"
     ]
    }
   ],
   "source": [
    "del l2[0]\n",
    "del l2 [-1]\n",
    "\n",
    "print(l2)"
   ]
  },
  {
   "cell_type": "markdown",
   "metadata": {},
   "source": [
    "10. Créer la liste des entiers de 1 jusqu'à 52. Ces entiers représentent les cartes d'un paquet de 52 cartes."
   ]
  },
  {
   "cell_type": "code",
   "execution_count": 29,
   "metadata": {},
   "outputs": [],
   "source": [
    "paquet = list(range(1,52))\n"
   ]
  },
  {
   "cell_type": "markdown",
   "metadata": {},
   "source": [
    " 11. Couper le jeu de carte revient à choisir un indice `i` entre 0 et 51, et à passer toutes les cartes allant des indices 0 à i-1 à la suite des cartes qui vont des indices i à 51. Ecrire le code qui effectue une coupe choisie au hasard."
   ]
  },
  {
   "cell_type": "code",
   "execution_count": 19,
   "metadata": {},
   "outputs": [
    {
     "name": "stdout",
     "output_type": "stream",
     "text": [
      "36\n",
      "[37, 38, 39, 40, 41, 42, 43, 44, 45, 46, 47, 48, 49, 50, 51, 1, 2, 3, 4, 5, 6, 7, 8, 9, 10, 11, 12, 13, 14, 15, 16, 17, 18, 19, 20, 21, 22, 23, 24, 25, 26, 27, 28, 29, 30, 31, 32, 33, 34, 35, 36]\n"
     ]
    }
   ],
   "source": [
    "paquet = list(range(1,52))\n",
    "i = random.randint (1,52) \n",
    "print(i)\n",
    "paquet_coupe= paquet [i:] + paquet [:i]\n",
    "print(paquet_coupe)"
   ]
  },
  {
   "cell_type": "markdown",
   "metadata": {},
   "source": [
    "---\n",
    "\n",
    "## 2. Problème de Syracuse\n",
    "\n",
    "Cette partie est à traiter dans un script que vous pouvez appeler, par exemple, `syracuse.py`.\n",
    "\n",
    "En partant d'un entier `n` de départ, on définit une suite d'entiers en obtenant chaque nouveau terme à partir du précédent soit en le divisant par 2 s'il est pair, soit en le multipliant par 3 et en ajoutant 1 s'il est impair. \n",
    "\n",
    "1. Sans écrire de programme, calculer les premières valeurs de la suite en chosissant `n = 3`.\n",
    "\n",
    "2. Ecrire la fonction qui, à partir d'un entier initial, renvoie la liste des valeurs successives jusqu'à ce que la valeur `1` soit atteinte (le dernier élément de la liste est donc toujours 1)."
   ]
  },
  {
   "cell_type": "code",
   "execution_count": 181,
   "metadata": {},
   "outputs": [
    {
     "name": "stdout",
     "output_type": "stream",
     "text": [
      "[3, 10, 5, 16, 8, 4, 2, 1]\n"
     ]
    }
   ],
   "source": [
    "\n",
    "\n",
    "def syracuse(n):\n",
    "    l = [n]\n",
    "    while n!=1:\n",
    "        if n%2 == 0:\n",
    "            n = n // 2 \n",
    "        else:  \n",
    "            n = n * 3 + 1 \n",
    "        l.append(n)\n",
    "    return l\n",
    "\n",
    "print (syracuse(3))"
   ]
  },
  {
   "cell_type": "code",
   "execution_count": 182,
   "metadata": {},
   "outputs": [
    {
     "name": "stdout",
     "output_type": "stream",
     "text": [
      "[3, 10, 5, 16, 8, 4, 2, 1]\n"
     ]
    }
   ],
   "source": [
    "def syracuse(n):\n",
    "    l= [n]\n",
    "    while n > 1: \n",
    "        if n%2 == 0 :\n",
    "            n = n// 2 \n",
    "        else:\n",
    "            n = 3 * n + 1 \n",
    "        l.append(n)\n",
    "    return l\n",
    "\n",
    "print(syracuse(3))"
   ]
  },
  {
   "cell_type": "markdown",
   "metadata": {},
   "source": [
    "3. La conjecture de Collatz (ou problème de Syracuse) affirme que, quel que soit l’entier `n` que l’on choisisse au départ, on finit toujours par arriver à 1 (ce résultat est une *conjecture*, c'est-à-dire qu'il n'a pas été démontré, mais qu'il n'existe pas de contre-exemple connu). Écrire une fonction qui, en appelant la fonction précédente, va vérifier si la conjecture est vraie pour `n` de 1 à `n_max`, où `n_max` est un paramètre de la fonction. \n",
    "\n",
    "*Remarque*: si tout se passe bien, la fonction doit juste se terminer et renvoyer `True` par exemple. Sinon, c’est qu’on sera entré dans une boucle infinie."
   ]
  },
  {
   "cell_type": "code",
   "execution_count": 22,
   "metadata": {
    "tags": []
   },
   "outputs": [
    {
     "name": "stdout",
     "output_type": "stream",
     "text": [
      "True\n"
     ]
    }
   ],
   "source": [
    "def testeConjecture(n_max):\n",
    "    for i in range(1, n_max+1):\n",
    "        syracuse(i)\n",
    "    return True \n",
    "\n",
    "print(testeConjecture(10000))\n"
   ]
  },
  {
   "cell_type": "markdown",
   "metadata": {},
   "source": [
    "4. On appelle *temps de vol* de l’entier `n` le nombre d’étapes pour aller de `n` jusqu’à 1. Le temps de vol de 1 est 0, le temps de vol de 3 est 7. Écrire une fonction qui, étant donné un paramètre `n`, renvoie son temps de vol."
   ]
  },
  {
   "cell_type": "code",
   "execution_count": 29,
   "metadata": {},
   "outputs": [
    {
     "name": "stdout",
     "output_type": "stream",
     "text": [
      "Le temps de vol de 3 est 7\n"
     ]
    }
   ],
   "source": [
    "\n",
    "def tempsVol(n):\n",
    "    l = syracuse(n)\n",
    "    return len(l)-1\n",
    "\n",
    "print(\"Le temps de vol de\", 3, \"est\", tempsVol(3))"
   ]
  },
  {
   "cell_type": "markdown",
   "metadata": {},
   "source": [
    "5. Ecrire une fonction qui, étant donné un paramètre `n_max` renvoie la liste des temps de vol de tous les entiers de 1 à `n_max`. *Indication*: utiliser une liste en compréhension."
   ]
  },
  {
   "cell_type": "code",
   "execution_count": 39,
   "metadata": {},
   "outputs": [
    {
     "name": "stdout",
     "output_type": "stream",
     "text": [
      "[0, 1, 7, 2, 5, 8, 16, 3, 19, 6, 14, 9, 9, 17, 17, 4, 12, 20, 20, 7, 7, 15, 15, 10, 23, 10, 111, 18, 18, 18, 106, 5, 26, 13, 13, 21, 21, 21, 34, 8, 109, 8, 29, 16, 16, 16, 104, 11, 24, 24, 24, 11, 11, 112, 112, 19, 32, 19, 32, 19, 19, 107, 107, 6, 27, 27, 27, 14, 14, 14, 102, 22, 115, 22, 14, 22, 22, 35, 35, 9, 22, 110, 110, 9, 9, 30, 30, 17, 30, 17, 92, 17, 17, 105, 105, 12, 118, 25, 25, 25]\n"
     ]
    }
   ],
   "source": [
    "def tempsVolListe(n_max):\n",
    "    return [tempsVol(i)for i in range (1, n_max+1)]\n",
    "print(tempsVolListe(100))\n",
    "\n",
    "\n"
   ]
  },
  {
   "cell_type": "markdown",
   "metadata": {},
   "source": [
    "6. Déterminer quel entier entre 1 et 10000 a le plus grand temps de vol (réponse 6171 qui a le temps de vol 261)."
   ]
  },
  {
   "cell_type": "code",
   "execution_count": 184,
   "metadata": {},
   "outputs": [
    {
     "name": "stdout",
     "output_type": "stream",
     "text": [
      "6171\n"
     ]
    }
   ],
   "source": [
    "listeVol = tempsVolListe(10000)\n",
    "tpsMax = max (listeVol)\n",
    "entier_Max = listeVol.index(tpsMax)+1\n",
    "print(entier_Max)\n",
    "  \n"
   ]
  },
  {
   "cell_type": "code",
   "execution_count": 41,
   "metadata": {},
   "outputs": [],
   "source": [
    "def altMax (n):\n",
    "    l= syracuse(n)\n",
    "    return max(l)\n",
    "listeAlt= [altMax(i) for i in range(1,10001)]\n",
    "altMaxliste= max(listeAlt)\n",
    "entierMax = listeAlt.index(altMaxliste)+1"
   ]
  },
  {
   "cell_type": "markdown",
   "metadata": {},
   "source": [
    "7. L’altitude maximale de l'entier `n` est la plus grande valeur par laquelle passe `n` au cours de son vol. Déterminer quel entier entre 1 et 10000 a la plus grande altitude maximale (réponse 27114424, atteint par l'entier 9663). Ne pas hésiter à écrire de nouvelles fonctions pour cela."
   ]
  },
  {
   "cell_type": "markdown",
   "metadata": {},
   "source": [
    "---\n",
    "\n",
    "## 3. Carré magique\n",
    "\n",
    "*Définition* extraite de [l'article Wikipedia sur le carré magique](https://fr.wikipedia.org/wiki/Carr%C3%A9_magique_(math%C3%A9matiques)): en mathématiques, un carré magique d’ordre $n$ est composé de $n^2$ entiers strictement positifs, écrits sous la forme d’un tableau carré. Ces nombres sont disposés de sorte que leurs sommes sur chaque rangée, sur chaque colonne et sur chaque diagonale principale soient égales. On nomme alors *constante magique* la valeur de ces sommes. \n",
    "\n",
    "Un exemple de carré magique:\n",
    "\n",
    "$$\\begin{bmatrix} 4 & 14 & 15 & 1 \\\\ 9 & 7 & 6 & 12 \\\\ 5 & 11 & 10 & 8 \\\\ 16 & 2 & 3 & 13 \\end{bmatrix}$$\n",
    "\n",
    "1. Sans écrire de programme, vérifier qu'il s'agit bien d'un carré magique, et donner sa constante magique.\n",
    "\n",
    "Les questions qui suivent doivent être traitées dans un script, qui peut s'appeler `carre_magique.py`. Pensez à utiliser [PythonTutor](http://pythontutor.com/) et les outils de programmation pour résoudre les problèmes qui pourraient survenir.\n",
    "\n",
    "2. Créer une liste à deux dimensions affectée à  la variable `carre_mag` contenant ce carré magique."
   ]
  },
  {
   "cell_type": "code",
   "execution_count": 42,
   "metadata": {},
   "outputs": [
    {
     "name": "stdout",
     "output_type": "stream",
     "text": [
      "14\n"
     ]
    }
   ],
   "source": [
    "\n",
    "carre_mag = [[4, 14, 15, 1], [9, 7, 6, 12], [5,11, 10, 8],[16, 2, 3, 13]]\n",
    "\n",
    "carre_mag[0][1]\n",
    "\n",
    "print(carre_mag[0][1])\n",
    "\n"
   ]
  },
  {
   "cell_type": "markdown",
   "metadata": {},
   "source": [
    "3. Créer une deuxième liste affectée à la variable `carre_pas_mag` qui ne soit pas magique à partir du carré magique en changeant le 3 en 7. "
   ]
  },
  {
   "cell_type": "code",
   "execution_count": 44,
   "metadata": {},
   "outputs": [
    {
     "name": "stdout",
     "output_type": "stream",
     "text": [
      "[[4, 14, 15, 1], [9, 7, 6, 12], [5, 11, 10, 8], [16, 2, 7, 13]]\n"
     ]
    }
   ],
   "source": [
    "carre_pas_mag = [list(l) for l in carre_mag] #on ne peut pas seulement copier la liste\n",
    "carre_pas_mag[3][2] = 7\n",
    "\n",
    "print(carre_pas_mag)"
   ]
  },
  {
   "cell_type": "markdown",
   "metadata": {},
   "source": [
    "4. Créer une fonction qui affiche la liste comme un carré."
   ]
  },
  {
   "cell_type": "code",
   "execution_count": 45,
   "metadata": {},
   "outputs": [
    {
     "name": "stdout",
     "output_type": "stream",
     "text": [
      "[4, 14, 15, 1]\n",
      "[9, 7, 6, 12]\n",
      "[5, 11, 10, 8]\n",
      "[16, 2, 3, 13]\n",
      "[4, 14, 15, 1]\n",
      "[9, 7, 6, 12]\n",
      "[5, 11, 10, 8]\n",
      "[16, 2, 7, 13]\n"
     ]
    }
   ],
   "source": [
    "def afficheCarre(carre):\n",
    "    for l in carre: \n",
    "        print(l)\n",
    "\n",
    "afficheCarre(carre_mag)\n",
    "\n",
    "\n",
    "afficheCarre(carre_pas_mag)\n"
   ]
  },
  {
   "cell_type": "markdown",
   "metadata": {},
   "source": [
    "5. Ecrire une fonction qui teste si les lignes du carré ont toutes la même somme. Cette fonction renvoie cette somme si c'est le cas, et `-1` sinon."
   ]
  },
  {
   "cell_type": "code",
   "execution_count": 46,
   "metadata": {},
   "outputs": [
    {
     "name": "stdout",
     "output_type": "stream",
     "text": [
      "34\n",
      "-1\n"
     ]
    }
   ],
   "source": [
    "def testLignesEgales(carre):\n",
    "    somme = sum(carre [0])\n",
    "    for l in carre: \n",
    "        if sum(l)!=somme:\n",
    "            return -1\n",
    "    return somme\n",
    "\n",
    "print(testLignesEgales(carre_mag))\n",
    "print(testLignesEgales(carre_pas_mag))\n"
   ]
  },
  {
   "cell_type": "code",
   "execution_count": null,
   "metadata": {},
   "outputs": [],
   "source": []
  },
  {
   "cell_type": "markdown",
   "metadata": {},
   "source": [
    "6. Même question mais en testant les colonnes."
   ]
  },
  {
   "cell_type": "code",
   "execution_count": 47,
   "metadata": {},
   "outputs": [
    {
     "name": "stdout",
     "output_type": "stream",
     "text": [
      "34\n",
      "-1\n"
     ]
    }
   ],
   "source": [
    "def testColonnesEgales(carre):\n",
    "    somCol = sum([l[0] for l in carre])\n",
    "    for i in range (1, len(carre)):\n",
    "        col = [l[i] for l in carre]\n",
    "        if sum (col) != somCol: \n",
    "            return -1\n",
    "    return somCol \n",
    "\n",
    "print(testColonnesEgales(carre_mag))\n",
    "\n",
    "print(testColonnesEgales(carre_pas_mag))"
   ]
  },
  {
   "cell_type": "markdown",
   "metadata": {},
   "source": [
    "7. Même question mais en testant les 2 diagonales."
   ]
  },
  {
   "cell_type": "code",
   "execution_count": 47,
   "metadata": {},
   "outputs": [
    {
     "name": "stdout",
     "output_type": "stream",
     "text": [
      "34\n",
      "34\n"
     ]
    }
   ],
   "source": [
    "def testDiagonalesEgales(carre):\n",
    "    n = len(carre)\n",
    "    diag1 = [carre[i][i]for i in range (n)]\n",
    "    diag2 = [carre [i][n-1-i]for i in range (n)]\n",
    "    if sum (diag1)==sum (diag2):\n",
    "        return sum(diag1)\n",
    "    else:\n",
    "        return-1\n",
    "\n",
    "print(testDiagonalesEgales(carre_mag))\n",
    "print(testDiagonalesEgales(carre_pas_mag))"
   ]
  },
  {
   "cell_type": "markdown",
   "metadata": {},
   "source": [
    "8. Créer une fonction qui teste si un carré est magique. Elle retourne `True` si c'est le cas et `False` sinon."
   ]
  },
  {
   "cell_type": "code",
   "execution_count": 49,
   "metadata": {},
   "outputs": [
    {
     "name": "stdout",
     "output_type": "stream",
     "text": [
      "True\n",
      "False\n"
     ]
    }
   ],
   "source": [
    "def estCarreMagique(carre):\n",
    "    return testLignesEgales(carre) == testColonnesEgales(carre) and testLignesEgales(carre) == testDiagonalesEgales(carre) and testLignesEgales(carre) != -1 \n",
    "\n",
    "print(estCarreMagique(carre_mag))\n",
    "print(estCarreMagique(carre_pas_mag))"
   ]
  },
  {
   "cell_type": "markdown",
   "metadata": {},
   "source": [
    "9. Un carré d'ordre $n$ est *normal* s'il contient tous les entiers de 1 à $n^2$. Ecrire une fonction qui teste si un carré est normal (pas nécessairement magique)."
   ]
  },
  {
   "cell_type": "code",
   "execution_count": 51,
   "metadata": {},
   "outputs": [
    {
     "name": "stdout",
     "output_type": "stream",
     "text": [
      "True\n",
      "False\n"
     ]
    }
   ],
   "source": [
    "def estNormal(carre):\n",
    "    n = len(carre)\n",
    "    nombres = list(range(1, n*n +1))\n",
    "    for i in range (n):\n",
    "        for j in range(n):\n",
    "            if carre [i][j] in nombres :\n",
    "                nombres.remove(carre[i][j])\n",
    "\n",
    "    return len(nombres)== 0 \n",
    "  \n",
    "print(estNormal(carre_mag))\n",
    "print(estNormal(carre_pas_mag))"
   ]
  },
  {
   "cell_type": "code",
   "execution_count": 54,
   "metadata": {},
   "outputs": [
    {
     "name": "stdout",
     "output_type": "stream",
     "text": [
      "False\n",
      "False\n"
     ]
    }
   ],
   "source": [
    "def estNormal2(carre): \n",
    "    n=len(carre)\n",
    "    for i in range (1, n*n +1):\n",
    "        trouve = False \n",
    "        for l in carre:\n",
    "            if i in l:\n",
    "                trouve = True \n",
    "            if not trouve:\n",
    "                return False \n",
    "    return True\n",
    "print(estNormal2(carre_mag))\n",
    "print(estNormal2(carre_pas_mag))"
   ]
  },
  {
   "cell_type": "code",
   "execution_count": 77,
   "metadata": {},
   "outputs": [
    {
     "name": "stdout",
     "output_type": "stream",
     "text": [
      "[9, 8, 7, 6, 5, 4, 3, 2, 1]\n"
     ]
    }
   ],
   "source": [
    "l = [1,2,3,4,5,6,7,8,9]\n",
    "\n",
    "def inverse (l):\n",
    "    return l[::-1]\n",
    "print (inverse(l))\n",
    "\n",
    "\n"
   ]
  },
  {
   "cell_type": "code",
   "execution_count": 209,
   "metadata": {},
   "outputs": [
    {
     "name": "stdout",
     "output_type": "stream",
     "text": [
      "3\n"
     ]
    }
   ],
   "source": [
    "l = [0,1,2,3,4,5]\n",
    "n = 2\n",
    "\n",
    "\n",
    "def fonction (l,n):\n",
    "    somme = 0\n",
    "    for i in range (len(l)):\n",
    "        if ( i> n) :\n",
    "            somme += 1\n",
    "    return somme \n",
    "print (fonction(l,n))\n",
    "\n",
    "n = 3\n",
    "m= 8        \n"
   ]
  },
  {
   "cell_type": "code",
   "execution_count": 229,
   "metadata": {},
   "outputs": [
    {
     "ename": "UnboundLocalError",
     "evalue": "local variable 'sommeNegatif' referenced before assignment",
     "output_type": "error",
     "traceback": [
      "\u001b[0;31m---------------------------------------------------------------------------\u001b[0m",
      "\u001b[0;31mUnboundLocalError\u001b[0m                         Traceback (most recent call last)",
      "Cell \u001b[0;32mIn [229], line 15\u001b[0m\n\u001b[1;32m     12\u001b[0m                 sommeNegatif \u001b[39m+\u001b[39m\u001b[39m=\u001b[39m j\n\u001b[1;32m     13\u001b[0m     \u001b[39mreturn\u001b[39;00m \u001b[39mprint\u001b[39m(\u001b[39m\"\u001b[39m\u001b[39mLe total de dépenses est\u001b[39m\u001b[39m\"\u001b[39m, sommeNegatif, \u001b[39m\"\u001b[39m\u001b[39met le total des rentrées est\u001b[39m\u001b[39m\"\u001b[39m, sommePositif)\n\u001b[0;32m---> 15\u001b[0m \u001b[39mprint\u001b[39m(bilan_mensuel(base))\n",
      "Cell \u001b[0;32mIn [229], line 12\u001b[0m, in \u001b[0;36mbilan_mensuel\u001b[0;34m(l)\u001b[0m\n\u001b[1;32m     10\u001b[0m             sommePositif \u001b[39m+\u001b[39m\u001b[39m=\u001b[39m j \n\u001b[1;32m     11\u001b[0m         \u001b[39melse\u001b[39;00m: \n\u001b[0;32m---> 12\u001b[0m             sommeNegatif \u001b[39m+\u001b[39m\u001b[39m=\u001b[39m j\n\u001b[1;32m     13\u001b[0m \u001b[39mreturn\u001b[39;00m \u001b[39mprint\u001b[39m(\u001b[39m\"\u001b[39m\u001b[39mLe total de dépenses est\u001b[39m\u001b[39m\"\u001b[39m, sommeNegatif, \u001b[39m\"\u001b[39m\u001b[39met le total des rentrées est\u001b[39m\u001b[39m\"\u001b[39m, sommePositif)\n",
      "\u001b[0;31mUnboundLocalError\u001b[0m: local variable 'sommeNegatif' referenced before assignment"
     ]
    }
   ],
   "source": [
    "base = [[200, -42, 312],\n",
    "[-51, -22, -3, 80,23]]\n",
    "\n",
    "def bilan_mensuel(l):\n",
    "    sommeNegatif: 0 \n",
    "    sommePositif: 0 \n",
    "    for i in range(len(l)):\n",
    "        for j in range(len(l)): \n",
    "            if j > 0:\n",
    "                sommePositif += j \n",
    "            else: \n",
    "                sommeNegatif += j\n",
    "    return print(\"Le total de dépenses est\", sommeNegatif, \"et le total des rentrées est\", sommePositif)\n",
    "\n",
    "print(bilan_mensuel(base))"
   ]
  },
  {
   "cell_type": "code",
   "execution_count": 83,
   "metadata": {},
   "outputs": [
    {
     "name": "stdout",
     "output_type": "stream",
     "text": [
      "False\n"
     ]
    }
   ],
   "source": [
    "n = 3\n",
    "m= 8\n",
    "\n",
    "def fonction_ (n,m):\n",
    "    if m % n == 0 :\n",
    "        return True\n",
    "    else : \n",
    "        return False\n",
    "print(fonction_(n,m))"
   ]
  },
  {
   "cell_type": "code",
   "execution_count": 188,
   "metadata": {},
   "outputs": [
    {
     "name": "stdout",
     "output_type": "stream",
     "text": [
      "(1, 1, 2, 1, 1, 1, 1, 2, 1)\n"
     ]
    }
   ],
   "source": [
    "mot = \"universidad\"\n",
    "\n",
    "\n",
    "def fonction (mot):\n",
    "    return mot.count(\"u\"), mot.count(\"n\"), mot.count(\"i\"), mot.count(\"v\"), mot.count(\"e\"), mot.count(\"r\"), mot.count(\"s\"), mot.count(\"d\"), mot.count(\"a\")\n",
    "  \n",
    "\n",
    "\n",
    "print (fonction(mot))"
   ]
  },
  {
   "cell_type": "code",
   "execution_count": 212,
   "metadata": {},
   "outputs": [
    {
     "name": "stdout",
     "output_type": "stream",
     "text": [
      "Le caractère u figure 1 fois dans la chaine\n",
      "Le caractère n figure 1 fois dans la chaine\n",
      "Le caractère i figure 2 fois dans la chaine\n",
      "Le caractère v figure 1 fois dans la chaine\n",
      "Le caractère e figure 1 fois dans la chaine\n",
      "Le caractère r figure 1 fois dans la chaine\n",
      "Le caractère s figure 1 fois dans la chaine\n",
      "Le caractère i figure 2 fois dans la chaine\n",
      "Le caractère d figure 2 fois dans la chaine\n",
      "Le caractère a figure 1 fois dans la chaine\n",
      "Le caractère d figure 2 fois dans la chaine\n",
      "None\n"
     ]
    }
   ],
   "source": [
    "mot = \"universidad\"\n",
    "n = len(mot)\n",
    "\n",
    "def nbOcurrence(mot):\n",
    "    for i in range (0,n):\n",
    "        print(\"Le caractère\", mot[i], \"figure\", mot.count(mot[i]), \"fois dans la chaine\")\n",
    "    return \n",
    "\n",
    "print(nbOcurrence(mot))\n",
    "       "
   ]
  },
  {
   "cell_type": "code",
   "execution_count": 227,
   "metadata": {},
   "outputs": [
    {
     "ename": "SyntaxError",
     "evalue": "invalid syntax (1187036480.py, line 13)",
     "output_type": "error",
     "traceback": [
      "\u001b[0;36m  Cell \u001b[0;32mIn [227], line 13\u001b[0;36m\u001b[0m\n\u001b[0;31m    return  L[a][a]= 1\u001b[0m\n\u001b[0m                   ^\u001b[0m\n\u001b[0;31mSyntaxError\u001b[0m\u001b[0;31m:\u001b[0m invalid syntax\n"
     ]
    }
   ],
   "source": [
    "n = 7 \n",
    "L = [[0]*n for i in range (0, n+1)]\n",
    "\n",
    "\n",
    "\n",
    "for l in L:\n",
    "    print(l)\n",
    "\n",
    "a = random.randint(0,7)\n",
    "\n",
    "def aleatoire(L):\n",
    "    a = random.randint(0,7)\n",
    "    return  L[a][a]= 1 \n",
    "     \n",
    "\n",
    "print(aleatoire(L))"
   ]
  },
  {
   "cell_type": "code",
   "execution_count": 208,
   "metadata": {},
   "outputs": [
    {
     "name": "stdout",
     "output_type": "stream",
     "text": [
      "[[0, 0, 0, 0, 0, 0, 0], [0, 0, 0, 0, 0, 0, 0], [0, 0, 0, 0, 0, 0, 0], [0, 0, 0, 0, 0, 0, 0], [0, 0, 0, 0, 0, 0, 0], [0, 0, 0, 0, 0, 0, 0], [0, 0, 0, 0, 0, 0, 0]]\n",
      "[0, 0, 0, 0, 0, 0, 0]\n",
      "[0, 0, 0, 0, 0, 0, 0]\n",
      "[0, 0, 0, 0, 0, 0, 0]\n",
      "[0, 0, 0, 0, 0, 0, 0]\n",
      "[0, 0, 0, 0, 0, 0, 0]\n",
      "[0, 0, 0, 0, 0, 0, 0]\n",
      "[0, 0, 0, 0, 0, 0, 0]\n",
      "None\n"
     ]
    }
   ],
   "source": [
    "m = 7 \n",
    "L = [[0]*m] * 7 \n",
    "print (L)\n",
    "\n",
    "def affficheCarre (L):\n",
    "    for i in L:\n",
    "        print(i)\n",
    "    return \n",
    "\n",
    "print(afficheCarre(L))"
   ]
  },
  {
   "cell_type": "code",
   "execution_count": 149,
   "metadata": {},
   "outputs": [
    {
     "name": "stdout",
     "output_type": "stream",
     "text": [
      "0\n",
      "5\n",
      "10\n",
      "15\n",
      "20\n",
      "25\n",
      "0\n",
      "5\n",
      "10\n",
      "15\n",
      "20\n",
      "25\n",
      "0\n",
      "5\n",
      "10\n",
      "15\n",
      "20\n",
      "25\n",
      "0\n",
      "5\n",
      "10\n",
      "15\n",
      "20\n",
      "25\n",
      "0\n",
      "5\n",
      "10\n",
      "15\n",
      "20\n",
      "25\n",
      "0\n",
      "5\n",
      "10\n",
      "15\n",
      "20\n",
      "25\n",
      "0\n",
      "5\n",
      "10\n",
      "15\n",
      "20\n",
      "25\n",
      "0\n",
      "5\n",
      "10\n",
      "15\n",
      "20\n",
      "25\n",
      "0\n",
      "5\n",
      "10\n",
      "15\n",
      "20\n",
      "25\n",
      "0\n",
      "5\n",
      "10\n",
      "15\n",
      "20\n",
      "25\n",
      "0\n",
      "5\n",
      "10\n",
      "15\n",
      "20\n",
      "25\n",
      "0\n",
      "5\n",
      "10\n",
      "15\n",
      "20\n",
      "25\n",
      "0\n",
      "5\n",
      "10\n",
      "15\n",
      "20\n",
      "25\n",
      "0\n",
      "5\n",
      "10\n",
      "15\n",
      "20\n",
      "25\n",
      "0\n",
      "5\n",
      "10\n",
      "15\n",
      "20\n",
      "25\n",
      "0\n",
      "5\n",
      "10\n",
      "15\n",
      "20\n",
      "25\n",
      "0\n",
      "5\n",
      "10\n",
      "15\n",
      "20\n",
      "25\n",
      "0\n",
      "5\n",
      "10\n",
      "15\n",
      "20\n",
      "25\n",
      "0\n",
      "5\n",
      "10\n",
      "15\n",
      "20\n",
      "25\n",
      "0\n",
      "5\n",
      "10\n",
      "15\n",
      "20\n",
      "25\n",
      "0\n",
      "5\n",
      "10\n",
      "15\n",
      "20\n",
      "25\n",
      "0\n",
      "5\n",
      "10\n",
      "15\n",
      "20\n",
      "25\n",
      "0\n",
      "5\n",
      "10\n",
      "15\n",
      "20\n",
      "25\n",
      "0\n",
      "5\n",
      "10\n",
      "15\n",
      "20\n",
      "25\n",
      "0\n",
      "5\n",
      "10\n",
      "15\n",
      "20\n",
      "25\n",
      "None\n"
     ]
    }
   ],
   "source": [
    "n = 5 \n",
    "\n",
    "\n",
    "def fonction (n):\n",
    "    for i in range (0,n):\n",
    "            for i in range (0,n+1): \n",
    "                print ((n*i))  \n",
    "            \n",
    "\n",
    "        \n",
    "print (fonction(n))"
   ]
  },
  {
   "cell_type": "code",
   "execution_count": 200,
   "metadata": {},
   "outputs": [
    {
     "name": "stdout",
     "output_type": "stream",
     "text": [
      "0 0 0 0\n",
      "[[0, 0, 0, 0], [0, 0, 0, 0], [0, 0, 0, 0], [0, 0, 0, 0]]\n"
     ]
    }
   ],
   "source": [
    "def table(n): \n",
    "    L = [[0]*(n+1) for i in range (n+1)]\n",
    "    for i in range (n+1):\n",
    "      for j in range (n+1):\n",
    "         L [i][j] = i*j\n",
    "      for i in L: \n",
    "        print(' '.join([str(j) for j in i]))\n",
    "        return L\n",
    "\n",
    "print(table(3)) "
   ]
  },
  {
   "cell_type": "code",
   "execution_count": 201,
   "metadata": {},
   "outputs": [
    {
     "name": "stdout",
     "output_type": "stream",
     "text": [
      "[[0, 0, 0, 0, 0, 0], [0, 1, 2, 3, 4, 5], [0, 2, 4, 6, 8, 10], [0, 3, 6, 9, 12, 15], [0, 4, 8, 12, 16, 20], [0, 5, 10, 15, 20, 25]]\n"
     ]
    }
   ],
   "source": [
    "def multiplication(n):\n",
    "    L = [[0]* (n+1) for i in range (n+1)]\n",
    "    for i in range (n+1):\n",
    "        for j in range (n+1):\n",
    "            L[i][j] = i*j \n",
    "    for i in L:\n",
    "            print(' '.join([str(j) for j in i]))\n",
    "    return L \n",
    "\n",
    "\n",
    "print (multiplication(5))"
   ]
  },
  {
   "cell_type": "markdown",
   "metadata": {},
   "source": [
    "def fonction (L):\n",
    "    for i in range (len(L)):\n",
    "        for j in range (len(L[i])):\n",
    "            L [i][j] *= 7 \n",
    "    return \n",
    "\n",
    "print(fonction(L))"
   ]
  },
  {
   "cell_type": "markdown",
   "metadata": {},
   "source": [
    "l"
   ]
  }
 ],
 "metadata": {
  "kernelspec": {
   "display_name": "Python 3.10.7 64-bit",
   "language": "python",
   "name": "python3"
  },
  "language_info": {
   "codemirror_mode": {
    "name": "ipython",
    "version": 3
   },
   "file_extension": ".py",
   "mimetype": "text/x-python",
   "name": "python",
   "nbconvert_exporter": "python",
   "pygments_lexer": "ipython3",
   "version": "3.10.7"
  },
  "vscode": {
   "interpreter": {
    "hash": "7e1998ff7f8aa20ada591c520b972326324e5ea05489af9e422744c7c09f6dad"
   }
  }
 },
 "nbformat": 4,
 "nbformat_minor": 1
}
