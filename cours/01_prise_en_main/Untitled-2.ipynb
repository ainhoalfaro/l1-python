{
 "cells": [
  {
   "cell_type": "code",
   "execution_count": 5,
   "metadata": {},
   "outputs": [
    {
     "name": "stdout",
     "output_type": "stream",
     "text": [
      "0.6666666666666666\n",
      "Terminé\n"
     ]
    }
   ],
   "source": [
    "a = int(input(\"choisir un entier\"))\n",
    "b = int(input(\"choisir un deuxième entier\"))\n",
    "s = str(input(\"saisir une chaîne de caractères\"))\n",
    "if s == \"addition\" : \n",
    "    print( a + b)\n",
    "if s == \"soustraction\":\n",
    "    print(a - b)\n",
    "if s == \"multiplication\" :\n",
    "    print(a * b)\n",
    "if s == \"division\": \n",
    "    print (a / b)\n",
    "print(\"Terminé\")"
   ]
  },
  {
   "cell_type": "code",
   "execution_count": 17,
   "metadata": {},
   "outputs": [
    {
     "name": "stdout",
     "output_type": "stream",
     "text": [
      "4\n"
     ]
    }
   ],
   "source": [
    "N = int(input(\"saisir un nombre entier\"))\n",
    "somme = 0 \n",
    "i= 0 \n",
    "n = 0\n",
    "\n",
    "while somme < N:\n",
    "    i = i + 1\n",
    "    somme = somme + i\n",
    "    n = n + 1\n",
    "    \n",
    "    \n",
    "print(n) "
   ]
  },
  {
   "cell_type": "code",
   "execution_count": 16,
   "metadata": {},
   "outputs": [
    {
     "name": "stdout",
     "output_type": "stream",
     "text": [
      "17\n"
     ]
    }
   ],
   "source": [
    "N = int(input(\"saisir un nombre entier\"))\n",
    "somme = 0 \n",
    "i= 0 \n",
    "n = 0\n",
    "\n",
    "for i in range (1, N+1):\n",
    "    somme = somme + i\n",
    "    n += 1   \n",
    "    \n",
    "print(n)"
   ]
  }
 ],
 "metadata": {
  "kernelspec": {
   "display_name": "Python 3.10.7 64-bit",
   "language": "python",
   "name": "python3"
  },
  "language_info": {
   "codemirror_mode": {
    "name": "ipython",
    "version": 3
   },
   "file_extension": ".py",
   "mimetype": "text/x-python",
   "name": "python",
   "nbconvert_exporter": "python",
   "pygments_lexer": "ipython3",
   "version": "3.10.7"
  },
  "orig_nbformat": 4,
  "vscode": {
   "interpreter": {
    "hash": "7e1998ff7f8aa20ada591c520b972326324e5ea05489af9e422744c7c09f6dad"
   }
  }
 },
 "nbformat": 4,
 "nbformat_minor": 2
}
