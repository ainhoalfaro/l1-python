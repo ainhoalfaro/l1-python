{
 "cells": [
  {
   "cell_type": "code",
   "execution_count": 7,
   "metadata": {},
   "outputs": [
    {
     "name": "stdout",
     "output_type": "stream",
     "text": [
      "9 89\n"
     ]
    }
   ],
   "source": [
    "a = input(\"Sasir un nombre entier\")\n",
    "a= int(a)\n",
    "b = input(\"Saisir un autre nombre entier\")\n",
    "b=int(b)\n",
    "if a<b : \n",
    "    print(a,b)\n",
    "else: \n",
    "    print(b,a)\n"
   ]
  },
  {
   "cell_type": "markdown",
   "metadata": {},
   "source": [
    "a = input(\"Sasir un nombre entier\")\n",
    "a= int(a)\n",
    "b = input(\"Saisir un autre nombre entier\")\n",
    "b=int(b)\n",
    "if a>b : \n",
    "    a,b=b,a \n",
    "print(a,b)"
   ]
  },
  {
   "cell_type": "code",
   "execution_count": 13,
   "metadata": {},
   "outputs": [
    {
     "name": "stdout",
     "output_type": "stream",
     "text": [
      "96\n",
      "2\n",
      "Diviseur\n"
     ]
    }
   ],
   "source": [
    "import random \n",
    "a = random.randint(10,99)\n",
    "print(a)\n",
    "p = input(\"saisir un nombre à un chiffre\")\n",
    "p = int(p)\n",
    "print(p)\n",
    "if p>1 and a%p == 0: \n",
    "    print(\"Diviseur\")\n",
    "else: \n",
    "    print(\"Not diviseur\")\n",
    "\n"
   ]
  },
  {
   "cell_type": "code",
   "execution_count": 14,
   "metadata": {},
   "outputs": [
    {
     "ename": "TypeError",
     "evalue": "'<' not supported between instances of 'module' and 'int'",
     "output_type": "error",
     "traceback": [
      "\u001b[0;31m---------------------------------------------------------------------------\u001b[0m",
      "\u001b[0;31mTypeError\u001b[0m                                 Traceback (most recent call last)",
      "Cell \u001b[0;32mIn [14], line 4\u001b[0m\n\u001b[1;32m      2\u001b[0m var1 \u001b[38;5;241m=\u001b[39m random \n\u001b[1;32m      3\u001b[0m var2\u001b[38;5;241m=\u001b[39m random \n\u001b[0;32m----> 4\u001b[0m \u001b[38;5;28;01mif\u001b[39;00m var1 \u001b[38;5;129;01mand\u001b[39;00m \u001b[43mvar2\u001b[49m\u001b[43m \u001b[49m\u001b[38;5;241;43m<\u001b[39;49m\u001b[43m \u001b[49m\u001b[38;5;241;43m0\u001b[39;49m \u001b[38;5;129;01mor\u001b[39;00m var1 \u001b[38;5;129;01mand\u001b[39;00m var2 \u001b[38;5;241m>\u001b[39m \u001b[38;5;241m0\u001b[39m: \n\u001b[1;32m      5\u001b[0m     \u001b[38;5;28mprint\u001b[39m(var1)\n",
      "\u001b[0;31mTypeError\u001b[0m: '<' not supported between instances of 'module' and 'int'"
     ]
    }
   ],
   "source": [
    "import random \n",
    "var1 = random \n",
    "var2= random \n",
    "if (var1 and var2 < 0) or (var1 and var2 > 0): \n",
    "\n"
   ]
  },
  {
   "cell_type": "code",
   "execution_count": 21,
   "metadata": {},
   "outputs": [
    {
     "name": "stdout",
     "output_type": "stream",
     "text": [
      "16 -8\n"
     ]
    }
   ],
   "source": [
    "var1= -4\n",
    "var2= 2 \n",
    "if(var1>0 and var2>0) or (var1<0 and var2<0):\n",
    "    var1, var2 = var2, var1 \n",
    "else: \n",
    "    var3=var1\n",
    "    var1=var1**var2\n",
    "    var2=var3*var2 \n",
    "print(var1,var2)"
   ]
  },
  {
   "cell_type": "code",
   "execution_count": 20,
   "metadata": {},
   "outputs": [
    {
     "name": "stdout",
     "output_type": "stream",
     "text": [
      "pgcd= 1\n",
      "Les deux entiers sont premiers entre eux.\n"
     ]
    }
   ],
   "source": [
    "a=eval(input(\"Valeur de a ?\")) \n",
    "b=eval(input(\"Valeur de b ?\")) \n",
    "while a!=b: \n",
    "    d=abs(b-a) \n",
    "    b=a \n",
    "    a=d \n",
    "print(\"pgcd=\",d) \n",
    "if d==1: \n",
    "    print(\"Les deux entiers sont premiers entre eux.\") "
   ]
  },
  {
   "cell_type": "code",
   "execution_count": 32,
   "metadata": {},
   "outputs": [
    {
     "name": "stdout",
     "output_type": "stream",
     "text": [
      "8\n"
     ]
    }
   ],
   "source": [
    "a = 64 \n",
    "b = 24 \n",
    "pgcd = 1 \n",
    "for i in range (1,min(a,b)):\n",
    "    if a %i == 0 and b%i==0:  \n",
    "         pgcd=i \n",
    "print(pgcd) "
   ]
  },
  {
   "cell_type": "code",
   "execution_count": 55,
   "metadata": {},
   "outputs": [
    {
     "name": "stdout",
     "output_type": "stream",
     "text": [
      "Help on built-in function min in module builtins:\n",
      "\n",
      "min(...)\n",
      "    min(iterable, *[, default=obj, key=func]) -> value\n",
      "    min(arg1, arg2, *args, *[, key=func]) -> value\n",
      "    \n",
      "    With a single iterable argument, return its smallest item. The\n",
      "    default keyword-only argument specifies an object to return if\n",
      "    the provided iterable is empty.\n",
      "    With two or more arguments, return the smallest argument.\n",
      "\n"
     ]
    }
   ],
   "source": [
    "help(min)"
   ]
  },
  {
   "cell_type": "markdown",
   "metadata": {},
   "source": [
    "Théorème d'Euclide"
   ]
  },
  {
   "cell_type": "code",
   "execution_count": 31,
   "metadata": {},
   "outputs": [
    {
     "name": "stdout",
     "output_type": "stream",
     "text": [
      "8\n"
     ]
    }
   ],
   "source": [
    "a = 64 \n",
    "b = 24 \n",
    "if a>= b : \n",
    "    while b!=0: \n",
    "        r= a%b \n",
    "        a,b=b,r \n",
    "    print(a)\n"
   ]
  },
  {
   "cell_type": "code",
   "execution_count": 33,
   "metadata": {},
   "outputs": [
    {
     "ename": "KeyboardInterrupt",
     "evalue": "",
     "output_type": "error",
     "traceback": [
      "\u001b[0;31m---------------------------------------------------------------------------\u001b[0m",
      "\u001b[0;31mKeyboardInterrupt\u001b[0m                         Traceback (most recent call last)",
      "Cell \u001b[0;32mIn [33], line 3\u001b[0m\n\u001b[1;32m      1\u001b[0m a \u001b[38;5;241m=\u001b[39m \u001b[38;5;241m0\u001b[39m \n\u001b[1;32m      2\u001b[0m b \u001b[38;5;241m=\u001b[39m \u001b[38;5;241m120\u001b[39m \n\u001b[0;32m----> 3\u001b[0m \u001b[38;5;28;01mwhile\u001b[39;00m a\u001b[38;5;241m!=\u001b[39mb: \n\u001b[1;32m      4\u001b[0m     n \u001b[38;5;241m=\u001b[39m b\n\u001b[1;32m      5\u001b[0m     a \u001b[38;5;241m=\u001b[39m a \u001b[38;5;241m+\u001b[39m \u001b[38;5;241m1\u001b[39m\n",
      "\u001b[0;31mKeyboardInterrupt\u001b[0m: "
     ]
    }
   ],
   "source": [
    "a = 0 \n",
    "b = 120 \n",
    "while a!=b: \n",
    "    n = b\n",
    "    a = a + 1\n",
    "    b = b + a*3 \n",
    "print (\"la somme \")\n"
   ]
  },
  {
   "cell_type": "code",
   "execution_count": 34,
   "metadata": {},
   "outputs": [
    {
     "name": "stdout",
     "output_type": "stream",
     "text": [
      "1068\n"
     ]
    }
   ],
   "source": [
    "n = int(input(\"saisissez l'âge de l'enfant\"))\n",
    "montant=0 \n",
    "for i in range (1, n+1):\n",
    "    montant += 120 + 3*i \n",
    "print(montant)"
   ]
  },
  {
   "cell_type": "code",
   "execution_count": 35,
   "metadata": {},
   "outputs": [
    {
     "name": "stdout",
     "output_type": "stream",
     "text": [
      "79\n",
      "78\n",
      "77\n",
      "76\n",
      "75\n",
      "74\n",
      "73\n",
      "72\n",
      "71\n",
      "70\n"
     ]
    }
   ],
   "source": [
    "n = int(input(\"saisir un nombre de depart\"))\n",
    "for i in range (0,10): \n",
    "    print(n-i)\n"
   ]
  },
  {
   "cell_type": "code",
   "execution_count": 38,
   "metadata": {},
   "outputs": [
    {
     "data": {
      "text/plain": [
       "[23, 19, 13, 7, 3]"
      ]
     },
     "execution_count": 38,
     "metadata": {},
     "output_type": "execute_result"
    }
   ],
   "source": [
    "liste =  [2,3,5,7,11,13,17,19,21,23]\n",
    "liste[: : -2]\n"
   ]
  },
  {
   "cell_type": "markdown",
   "metadata": {},
   "source": [
    "- 2 est reculer de deux pas \n",
    "on commence au début "
   ]
  },
  {
   "cell_type": "code",
   "execution_count": 39,
   "metadata": {},
   "outputs": [
    {
     "data": {
      "text/plain": [
       "[]"
      ]
     },
     "execution_count": 39,
     "metadata": {},
     "output_type": "execute_result"
    }
   ],
   "source": [
    "liste =  [2,3,5,7,11,13,17,19,21,23]\n",
    "liste[3: 8: -2] "
   ]
  },
  {
   "cell_type": "code",
   "execution_count": 40,
   "metadata": {},
   "outputs": [
    {
     "data": {
      "text/plain": [
       "[17, 13, 11, 7]"
      ]
     },
     "execution_count": 40,
     "metadata": {},
     "output_type": "execute_result"
    }
   ],
   "source": [
    "liste =  [2,3,5,7,11,13,17,19,21,23]\n",
    "liste[-4: -8: -1]"
   ]
  },
  {
   "cell_type": "code",
   "execution_count": 68,
   "metadata": {},
   "outputs": [],
   "source": [
    "a = int(input(\"saisir un premier nombre\"))\n",
    "b = int(input(\"saisir un deuxième nomnbre\"))\n",
    "\n",
    "if a > b : \n",
    "    a, b = b, a\n",
    "else : \n",
    "    print(a, b)"
   ]
  },
  {
   "cell_type": "code",
   "execution_count": 50,
   "metadata": {},
   "outputs": [
    {
     "name": "stdout",
     "output_type": "stream",
     "text": [
      "Diviseur\n"
     ]
    }
   ],
   "source": [
    "import random \n",
    "\n",
    "a = random.randint(10,99)\n",
    "b = int(input(\"choisir un nombre à un chiffre\"))\n",
    "\n",
    "if b>=1 and a%b== 0: \n",
    "    print(\"Diviseur\"); "
   ]
  },
  {
   "cell_type": "code",
   "execution_count": 54,
   "metadata": {},
   "outputs": [
    {
     "name": "stdout",
     "output_type": "stream",
     "text": [
      "1.0 -2.0\n"
     ]
    }
   ],
   "source": [
    "var1= 1\n",
    "var2= -2\n",
    "\n",
    "if (var1>0 and var2>0 ) or (var1<0 and var2<0):\n",
    "    var1, var2 = var2, var1 \n",
    "else : \n",
    "    var3= var1 \n",
    "    var1= var1**var2\n",
    "    var2= var1* var2\n",
    "print(var1, var2)"
   ]
  },
  {
   "cell_type": "code",
   "execution_count": null,
   "metadata": {},
   "outputs": [],
   "source": [
    "import random \n",
    "\n",
    "a = 60\n",
    "b= 70\n",
    "P = 1\n",
    "\n",
    "while b!= 0 or a!=0 : \n",
    "    p = "
   ]
  },
  {
   "cell_type": "code",
   "execution_count": 62,
   "metadata": {},
   "outputs": [
    {
     "name": "stdout",
     "output_type": "stream",
     "text": [
      "246\n"
     ]
    }
   ],
   "source": [
    "\n",
    "b = 0\n",
    "n = int(input(\"age enfant\")) \n",
    "for i in range (1, n+1): \n",
    "    b = (120 * n) + 3*n \n",
    "print (b)\n",
    "\n"
   ]
  },
  {
   "cell_type": "code",
   "execution_count": 67,
   "metadata": {},
   "outputs": [
    {
     "name": "stdout",
     "output_type": "stream",
     "text": [
      "19\n",
      "18\n",
      "17\n",
      "16\n",
      "15\n",
      "14\n",
      "13\n",
      "12\n",
      "11\n",
      "10\n"
     ]
    }
   ],
   "source": [
    "n = int (input(\"chiffre\"))\n",
    "\n",
    "for i in range (1, 11): \n",
    "    n = n - 1 \n",
    "    print(n)"
   ]
  }
 ],
 "metadata": {
  "kernelspec": {
   "display_name": "Python 3.10.7 64-bit",
   "language": "python",
   "name": "python3"
  },
  "language_info": {
   "codemirror_mode": {
    "name": "ipython",
    "version": 3
   },
   "file_extension": ".py",
   "mimetype": "text/x-python",
   "name": "python",
   "nbconvert_exporter": "python",
   "pygments_lexer": "ipython3",
   "version": "3.10.7"
  },
  "orig_nbformat": 4,
  "vscode": {
   "interpreter": {
    "hash": "7e1998ff7f8aa20ada591c520b972326324e5ea05489af9e422744c7c09f6dad"
   }
  }
 },
 "nbformat": 4,
 "nbformat_minor": 2
}
